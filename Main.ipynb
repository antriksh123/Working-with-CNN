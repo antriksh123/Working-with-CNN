{
 "cells": [
  {
   "attachments": {},
   "cell_type": "markdown",
   "metadata": {},
   "source": [
    "## Identify Cats and Dogs using CNN"
   ]
  },
  {
   "attachments": {},
   "cell_type": "markdown",
   "metadata": {},
   "source": [
    "### Importing Libraries "
   ]
  },
  {
   "cell_type": "code",
   "execution_count": 21,
   "metadata": {},
   "outputs": [],
   "source": [
    "import tensorflow as tf \n",
    "import numpy as np\n",
    "from keras.preprocessing.image import ImageDataGenerator"
   ]
  },
  {
   "cell_type": "code",
   "execution_count": 2,
   "metadata": {},
   "outputs": [
    {
     "data": {
      "text/plain": [
       "'2.12.0'"
      ]
     },
     "execution_count": 2,
     "metadata": {},
     "output_type": "execute_result"
    }
   ],
   "source": [
    "tf.__version__"
   ]
  },
  {
   "attachments": {},
   "cell_type": "markdown",
   "metadata": {},
   "source": [
    "### Data Preprocessing "
   ]
  },
  {
   "cell_type": "code",
   "execution_count": 3,
   "metadata": {},
   "outputs": [
    {
     "name": "stdout",
     "output_type": "stream",
     "text": [
      "Found 8000 images belonging to 2 classes.\n"
     ]
    }
   ],
   "source": [
    "train_datagen = ImageDataGenerator(\n",
    "        rescale=1./255,\n",
    "        shear_range=0.2,\n",
    "        zoom_range=0.2,\n",
    "        horizontal_flip=True,)\n",
    "train_generator = train_datagen.flow_from_directory(\n",
    "        r\"C:\\Users\\Antriksh\\Desktop\\Coding\\DeepLearning Course\\Identify Cats and Dogs using CNN\\DataSet\\dataset\\training_set\",\n",
    "        target_size=(64, 64),\n",
    "        batch_size=32,\n",
    "        class_mode='binary')"
   ]
  },
  {
   "cell_type": "code",
   "execution_count": 4,
   "metadata": {},
   "outputs": [
    {
     "name": "stdout",
     "output_type": "stream",
     "text": [
      "Found 2000 images belonging to 2 classes.\n"
     ]
    }
   ],
   "source": [
    "test_datagen = ImageDataGenerator(\n",
    "        rescale=1./255,)\n",
    "test_generator = test_datagen.flow_from_directory(\n",
    "        r\"C:\\Users\\Antriksh\\Desktop\\Coding\\DeepLearning Course\\Identify Cats and Dogs using CNN\\DataSet\\dataset\\test_set\",\n",
    "        target_size=(64, 64),\n",
    "        batch_size=32,\n",
    "        class_mode='binary')"
   ]
  },
  {
   "attachments": {},
   "cell_type": "markdown",
   "metadata": {},
   "source": [
    "### Building CNN \n"
   ]
  },
  {
   "cell_type": "code",
   "execution_count": 5,
   "metadata": {},
   "outputs": [],
   "source": [
    "cnn = tf.keras.models.Sequential()"
   ]
  },
  {
   "cell_type": "code",
   "execution_count": 6,
   "metadata": {},
   "outputs": [],
   "source": [
    "cnn.add(tf.keras.layers.Conv2D(32, kernel_size=3, activation='relu', input_shape = [64, 64, 3]))"
   ]
  },
  {
   "cell_type": "code",
   "execution_count": 7,
   "metadata": {},
   "outputs": [],
   "source": [
    "# max pooling \n",
    "cnn.add(tf.keras.layers.MaxPooling2D(pool_size=(2,2), strides=(2,2)))"
   ]
  },
  {
   "cell_type": "code",
   "execution_count": 8,
   "metadata": {},
   "outputs": [],
   "source": [
    "# layer 2\n",
    "cnn.add(tf.keras.layers.Conv2D(32, kernel_size=3, activation='relu'))\n",
    "cnn.add(tf.keras.layers.MaxPooling2D(pool_size=(2,2), strides=(2,2)))"
   ]
  },
  {
   "cell_type": "code",
   "execution_count": 9,
   "metadata": {},
   "outputs": [],
   "source": [
    "# Flatteming\n",
    "cnn.add(tf.keras.layers.Flatten())"
   ]
  },
  {
   "cell_type": "code",
   "execution_count": 10,
   "metadata": {},
   "outputs": [],
   "source": [
    "# ann\n",
    "cnn.add(tf.keras.layers.Dense(128, activation='relu'))"
   ]
  },
  {
   "cell_type": "code",
   "execution_count": 11,
   "metadata": {},
   "outputs": [],
   "source": [
    "# ann\n",
    "cnn.add(tf.keras.layers.Dense(1, activation='sigmoid'))"
   ]
  },
  {
   "attachments": {},
   "cell_type": "markdown",
   "metadata": {},
   "source": [
    "### Training"
   ]
  },
  {
   "cell_type": "code",
   "execution_count": 17,
   "metadata": {},
   "outputs": [],
   "source": [
    "cnn.compile(optimizer='adam', loss= 'binary_crossentropy', metrics= ['accuracy'])"
   ]
  },
  {
   "cell_type": "code",
   "execution_count": 18,
   "metadata": {},
   "outputs": [
    {
     "name": "stdout",
     "output_type": "stream",
     "text": [
      "Epoch 1/25\n",
      "250/250 [==============================] - 39s 153ms/step - loss: 0.6622 - accuracy: 0.5966 - val_loss: 0.5881 - val_accuracy: 0.6965\n",
      "Epoch 2/25\n",
      "250/250 [==============================] - 38s 150ms/step - loss: 0.6027 - accuracy: 0.6694 - val_loss: 0.5603 - val_accuracy: 0.7185\n",
      "Epoch 3/25\n",
      "250/250 [==============================] - 32s 128ms/step - loss: 0.5723 - accuracy: 0.7029 - val_loss: 0.5195 - val_accuracy: 0.7490\n",
      "Epoch 4/25\n",
      "250/250 [==============================] - 38s 154ms/step - loss: 0.5393 - accuracy: 0.7239 - val_loss: 0.5004 - val_accuracy: 0.7560\n",
      "Epoch 5/25\n",
      "250/250 [==============================] - 39s 154ms/step - loss: 0.5062 - accuracy: 0.7541 - val_loss: 0.5040 - val_accuracy: 0.7480\n",
      "Epoch 6/25\n",
      "250/250 [==============================] - 35s 141ms/step - loss: 0.4927 - accuracy: 0.7580 - val_loss: 0.5045 - val_accuracy: 0.7620\n",
      "Epoch 7/25\n",
      "250/250 [==============================] - 27s 108ms/step - loss: 0.4769 - accuracy: 0.7626 - val_loss: 0.5412 - val_accuracy: 0.7450\n",
      "Epoch 8/25\n",
      "250/250 [==============================] - 31s 124ms/step - loss: 0.4536 - accuracy: 0.7860 - val_loss: 0.5092 - val_accuracy: 0.7650\n",
      "Epoch 9/25\n",
      "250/250 [==============================] - 27s 108ms/step - loss: 0.4435 - accuracy: 0.7922 - val_loss: 0.4724 - val_accuracy: 0.7775\n",
      "Epoch 10/25\n",
      "250/250 [==============================] - 24s 95ms/step - loss: 0.4335 - accuracy: 0.7994 - val_loss: 0.4334 - val_accuracy: 0.8020\n",
      "Epoch 11/25\n",
      "250/250 [==============================] - 26s 103ms/step - loss: 0.4054 - accuracy: 0.8146 - val_loss: 0.4563 - val_accuracy: 0.7880\n",
      "Epoch 12/25\n",
      "250/250 [==============================] - 30s 122ms/step - loss: 0.3974 - accuracy: 0.8179 - val_loss: 0.4709 - val_accuracy: 0.7880\n",
      "Epoch 13/25\n",
      "250/250 [==============================] - 24s 96ms/step - loss: 0.3822 - accuracy: 0.8229 - val_loss: 0.4451 - val_accuracy: 0.8075\n",
      "Epoch 14/25\n",
      "250/250 [==============================] - 27s 106ms/step - loss: 0.3767 - accuracy: 0.8271 - val_loss: 0.4508 - val_accuracy: 0.8115\n",
      "Epoch 15/25\n",
      "250/250 [==============================] - 28s 111ms/step - loss: 0.3454 - accuracy: 0.8462 - val_loss: 0.5305 - val_accuracy: 0.7825\n",
      "Epoch 16/25\n",
      "250/250 [==============================] - 28s 111ms/step - loss: 0.3439 - accuracy: 0.8471 - val_loss: 0.4685 - val_accuracy: 0.8100\n",
      "Epoch 17/25\n",
      "250/250 [==============================] - 28s 112ms/step - loss: 0.3241 - accuracy: 0.8568 - val_loss: 0.4868 - val_accuracy: 0.7980\n",
      "Epoch 18/25\n",
      "250/250 [==============================] - 25s 99ms/step - loss: 0.3070 - accuracy: 0.8687 - val_loss: 0.5351 - val_accuracy: 0.7845\n",
      "Epoch 19/25\n",
      "250/250 [==============================] - 27s 107ms/step - loss: 0.2990 - accuracy: 0.8717 - val_loss: 0.4717 - val_accuracy: 0.8180\n",
      "Epoch 20/25\n",
      "250/250 [==============================] - 25s 98ms/step - loss: 0.2793 - accuracy: 0.8799 - val_loss: 0.4763 - val_accuracy: 0.8175\n",
      "Epoch 21/25\n",
      "250/250 [==============================] - 25s 98ms/step - loss: 0.2602 - accuracy: 0.8898 - val_loss: 0.5170 - val_accuracy: 0.7955\n",
      "Epoch 22/25\n",
      "250/250 [==============================] - 34s 135ms/step - loss: 0.2526 - accuracy: 0.8935 - val_loss: 0.5399 - val_accuracy: 0.8110\n",
      "Epoch 23/25\n",
      "250/250 [==============================] - 28s 112ms/step - loss: 0.2446 - accuracy: 0.8994 - val_loss: 0.5241 - val_accuracy: 0.8045\n",
      "Epoch 24/25\n",
      "250/250 [==============================] - 33s 133ms/step - loss: 0.2279 - accuracy: 0.9069 - val_loss: 0.5806 - val_accuracy: 0.8095\n",
      "Epoch 25/25\n",
      "250/250 [==============================] - 30s 121ms/step - loss: 0.2107 - accuracy: 0.9124 - val_loss: 0.6019 - val_accuracy: 0.7980\n"
     ]
    },
    {
     "data": {
      "text/plain": [
       "<keras.callbacks.History at 0x1b52cb20ed0>"
      ]
     },
     "execution_count": 18,
     "metadata": {},
     "output_type": "execute_result"
    }
   ],
   "source": [
    "cnn.fit(x = train_generator, validation_data=test_generator, epochs=25)"
   ]
  },
  {
   "attachments": {},
   "cell_type": "markdown",
   "metadata": {},
   "source": [
    "### Prediction"
   ]
  },
  {
   "cell_type": "code",
   "execution_count": 51,
   "metadata": {},
   "outputs": [],
   "source": [
    "import numpy as np\n",
    "test_image = tf.keras.utils.load_img(\"DataSet\\dataset\\single_prediction\\cat_or_dog_2.jpg\", target_size = [64, 64])"
   ]
  },
  {
   "cell_type": "code",
   "execution_count": 52,
   "metadata": {},
   "outputs": [],
   "source": [
    "test_image = tf.keras.utils.img_to_array(\n",
    "    test_image, data_format=None, dtype=None\n",
    ")\n",
    "# print(test_image)\n",
    "test_ima = np.expand_dims(test_image, axis= 0)\n",
    "# test_image"
   ]
  },
  {
   "cell_type": "code",
   "execution_count": 53,
   "metadata": {},
   "outputs": [
    {
     "name": "stdout",
     "output_type": "stream",
     "text": [
      "1/1 [==============================] - 0s 18ms/step\n",
      "[[0.19242108]]\n"
     ]
    }
   ],
   "source": [
    "result = cnn.predict(test_ima/255.0)\n",
    "print(result)"
   ]
  },
  {
   "cell_type": "code",
   "execution_count": 54,
   "metadata": {},
   "outputs": [
    {
     "data": {
      "text/plain": [
       "{'cats': 0, 'dogs': 1}"
      ]
     },
     "execution_count": 54,
     "metadata": {},
     "output_type": "execute_result"
    }
   ],
   "source": [
    "train_generator.class_indices"
   ]
  },
  {
   "cell_type": "code",
   "execution_count": 55,
   "metadata": {},
   "outputs": [
    {
     "name": "stdout",
     "output_type": "stream",
     "text": [
      "Cat\n"
     ]
    }
   ],
   "source": [
    "if result[0][0] > 0.5:\n",
    "    print(\"Dog\")\n",
    "else: \n",
    "    print(\"Cat\")    "
   ]
  },
  {
   "cell_type": "code",
   "execution_count": null,
   "metadata": {},
   "outputs": [],
   "source": []
  }
 ],
 "metadata": {
  "kernelspec": {
   "display_name": "Python 3",
   "language": "python",
   "name": "python3"
  },
  "language_info": {
   "codemirror_mode": {
    "name": "ipython",
    "version": 3
   },
   "file_extension": ".py",
   "mimetype": "text/x-python",
   "name": "python",
   "nbconvert_exporter": "python",
   "pygments_lexer": "ipython3",
   "version": "3.11.1"
  },
  "orig_nbformat": 4
 },
 "nbformat": 4,
 "nbformat_minor": 2
}
